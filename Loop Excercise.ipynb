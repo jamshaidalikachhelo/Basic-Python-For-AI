{
 "cells": [
  {
   "cell_type": "code",
   "execution_count": 10,
   "metadata": {},
   "outputs": [
    {
     "name": "stdout",
     "output_type": "stream",
     "text": [
      "0\n",
      "1\n",
      "2\n",
      "3\n",
      "4\n",
      "5\n",
      "6\n",
      "7\n",
      "8\n",
      "9\n",
      "10\n"
     ]
    }
   ],
   "source": [
    "# . Write a for loop that prints out the numbers 1 to 10.\n",
    "\n",
    "\n",
    "for i in range(11):\n",
    "    print(i)"
   ]
  },
  {
   "cell_type": "code",
   "execution_count": 11,
   "metadata": {},
   "outputs": [
    {
     "name": "stdout",
     "output_type": "stream",
     "text": [
      "the sum after 1 iteration is: 1\n",
      "the sum after 2 iteration is: 3\n",
      "the sum after 3 iteration is: 6\n",
      "the sum after 4 iteration is: 10\n",
      "the sum after 5 iteration is: 15\n",
      "the sum after 6 iteration is: 21\n",
      "the sum after 7 iteration is: 28\n",
      "the sum after 8 iteration is: 36\n",
      "the sum after 9 iteration is: 45\n",
      "the sum after 10 iteration is: 55\n"
     ]
    }
   ],
   "source": [
    "# Write a for loop that counts from 1 to 10 and prints out the running sum after each iteration.\n",
    "sum = 0\n",
    "\n",
    "for i in range(1,11):\n",
    "    sum+=i \n",
    "    print(\"the sum after\",i,\"iteration is:\",sum)"
   ]
  },
  {
   "cell_type": "code",
   "execution_count": 12,
   "metadata": {},
   "outputs": [
    {
     "name": "stdout",
     "output_type": "stream",
     "text": [
      "Thes sum of 5 numbers is : 310\n"
     ]
    }
   ],
   "source": [
    "# 3. Write a program that takes in 5 numbers from the user and prints out their sum.\n",
    "t_sum = 0\n",
    "for i in range(5):\n",
    "\n",
    "    num = int(input(\"Enter the Number\"))\n",
    "    t_sum += num\n",
    "print(\"Thes sum of 5 numbers is :\",t_sum)\n"
   ]
  },
  {
   "cell_type": "code",
   "execution_count": 13,
   "metadata": {},
   "outputs": [
    {
     "name": "stdout",
     "output_type": "stream",
     "text": [
      "142.0\n"
     ]
    }
   ],
   "source": [
    "#4. Write a program that takes in 5 numbers from the user and prints out their average.\n",
    "\n",
    "sum = 0\n",
    "for i in range(5):\n",
    "\n",
    "    num = int(input(\"Enter the number\"))\n",
    "    sum+=num\n",
    "\n",
    "avg = sum/5\n",
    "    \n",
    "\n",
    "print(avg)\n"
   ]
  },
  {
   "cell_type": "code",
   "execution_count": 14,
   "metadata": {},
   "outputs": [
    {
     "name": "stdout",
     "output_type": "stream",
     "text": [
      "12\n",
      "4\n",
      "2\n"
     ]
    }
   ],
   "source": [
    "#Write a program that takes in a list of numbers and returns a new list with only the even \n",
    "#numbers from the original list.\n",
    "\n",
    "\n",
    "list = [12,4,3,2]\n",
    "for num in list:\n",
    "    if num%2==0:\n",
    "        print(num)\n",
    "\n",
    "\n",
    "\n",
    "\n"
   ]
  },
  {
   "cell_type": "code",
   "execution_count": 15,
   "metadata": {},
   "outputs": [
    {
     "name": "stdout",
     "output_type": "stream",
     "text": [
      "[12, 8, 6, 2]\n"
     ]
    }
   ],
   "source": [
    "# Write a program that takes in a list of numbers and returns a new list with each number \n",
    "# multiplied by 2.\n",
    "\n",
    "empty_list = []\n",
    "list = [12,3,7,8,5,6,2]2\n",
    "\n",
    "\n",
    "for num in list:\n",
    "    if num%2==0:\n",
    "        empty_list.append(num)\n",
    "print(empty_list)"
   ]
  },
  {
   "cell_type": "code",
   "execution_count": 16,
   "metadata": {},
   "outputs": [
    {
     "name": "stdout",
     "output_type": "stream",
     "text": [
      "try again\n",
      "try again\n",
      "try again\n",
      "try again\n",
      "try again\n",
      "you are correct\n"
     ]
    }
   ],
   "source": [
    "#Write a for loop that generates a random number between 1 and 10, and then asks the user to \n",
    "#guess the number. The loop should continue until the user guesses the correct number.\n",
    "\n",
    "import random\n",
    "user_input = int(input(\"enter the number\"))\n",
    "\n",
    "\n",
    "\n",
    "\n",
    "while True:\n",
    "        num = random.randint(1,10)\n",
    "        \n",
    "        if user_input != num:\n",
    "\n",
    "            print(\"try again\")\n",
    "            user_input = int(input(\"enter the number\"))\n",
    "        else:\n",
    "            print(\"you are correct\")\n",
    "            break\n"
   ]
  },
  {
   "cell_type": "code",
   "execution_count": 2,
   "metadata": {},
   "outputs": [],
   "source": [
    "#Write a program to ask teachers to enter the marks of 4 students for 5 subjects and returns the \n",
    "#average percentage for each subject.\n"
   ]
  },
  {
   "cell_type": "code",
   "execution_count": 3,
   "metadata": {},
   "outputs": [
    {
     "name": "stdout",
     "output_type": "stream",
     "text": [
      "5 x 1 = 5\n",
      "5 x 2 = 10\n",
      "5 x 3 = 15\n",
      "5 x 4 = 20\n",
      "5 x 5 = 25\n",
      "5 x 6 = 30\n",
      "5 x 7 = 35\n",
      "5 x 8 = 40\n",
      "5 x 9 = 45\n",
      "5 x 10 = 50\n"
     ]
    }
   ],
   "source": [
    "#Write a python code that prints out a multiplication table for primary school children (see \n",
    "#example below), based on the number they provide as input.\n",
    "tabel = int(input(\"Enter the name of tabel\"))\n",
    "for i in range(1,11):\n",
    "\n",
    "    print(tabel,\"x\",i, \"=\", i*tabel)\n",
    "\n",
    "\n",
    "\n",
    "\n",
    "\n",
    "\n"
   ]
  },
  {
   "cell_type": "code",
   "execution_count": 9,
   "metadata": {},
   "outputs": [
    {
     "name": "stdout",
     "output_type": "stream",
     "text": [
      "The first N even numbers are: 2 4 6 8 10\n"
     ]
    }
   ],
   "source": [
    "#Write a python program that prints out that prints out the first N even and odd numbers, \n",
    "#depending on user input\n",
    "\n",
    "num = int(input(\"Enter the Number for getting Even or Odd numbers\"))\n",
    "\n",
    "if num%2==0:\n",
    "    print(\"The first N even numbers are:\",2,4,6,8,10)\n",
    "\n",
    "elif num%2!=0:\n",
    "    print(\"The first N odd numbers are:\",3,5,7,9,11)"
   ]
  },
  {
   "cell_type": "code",
   "execution_count": 11,
   "metadata": {},
   "outputs": [
    {
     "name": "stdout",
     "output_type": "stream",
     "text": [
      "First 7 even numbers:\n",
      "2 4 6 8 10 12 14 \n",
      "First 7 odd numbers:\n",
      "1 3 5 7 9 11 13 "
     ]
    }
   ],
   "source": [
    "# Function to print first N even and odd numbers\n",
    "def print_even_odd(N):\n",
    "    print(\"First\", N, \"even numbers:\")\n",
    "    for i in range(1, 2 * N + 1):\n",
    "        if i % 2 == 0:\n",
    "            print(i, end=\" \")\n",
    "    print(\"\\nFirst\", N, \"odd numbers:\")\n",
    "    for i in range(1, 2 * N + 1):\n",
    "        if i % 2 != 0:\n",
    "            print(i, end=\" \")\n",
    "\n",
    "# Ask the user for input\n",
    "N = int(input(\"Enter the value of N: \"))\n",
    "\n",
    "# Call the function to print first N even and odd numbers\n",
    "print_even_odd(N)\n"
   ]
  },
  {
   "cell_type": "code",
   "execution_count": 40,
   "metadata": {},
   "outputs": [
    {
     "name": "stdout",
     "output_type": "stream",
     "text": [
      "Number of vowels in the text is: 3\n"
     ]
    }
   ],
   "source": [
    "#Write a python code that counts the number of vowels in a text that is provided to the program \n",
    "#as input\n",
    "\n",
    "def find_vowels(text):\n",
    "\n",
    "    vowels = ['a','e','i','o','u']\n",
    "    count = 0\n",
    "\n",
    "    for char in text:\n",
    "        if char.lower() in vowels:\n",
    "            count+=1\n",
    "    return count\n",
    "\n",
    "text = input(\"Enter the text\")\n",
    "print(\"Number of vowels in the text is:\", find_vowels(text))"
   ]
  },
  {
   "cell_type": "code",
   "execution_count": 49,
   "metadata": {},
   "outputs": [
    {
     "name": "stdout",
     "output_type": "stream",
     "text": [
      "The length of text is: 2\n"
     ]
    }
   ],
   "source": [
    "#Write a python code that counts the number of words in a text that is provided to the program \n",
    "#as input\n",
    "\n",
    "\n",
    "\n",
    "def no_of_words(text):\n",
    "\n",
    "\n",
    "    count = 0\n",
    "\n",
    "    for char in text:\n",
    "        if char.lower() in text:\n",
    "            count+=1\n",
    "    return count\n",
    "\n",
    "text = input(\"Enter the text\")\n",
    "print(\"The length of text is:\",no_of_words(text))"
   ]
  }
 ],
 "metadata": {
  "kernelspec": {
   "display_name": "Python 3",
   "language": "python",
   "name": "python3"
  },
  "language_info": {
   "codemirror_mode": {
    "name": "ipython",
    "version": 3
   },
   "file_extension": ".py",
   "mimetype": "text/x-python",
   "name": "python",
   "nbconvert_exporter": "python",
   "pygments_lexer": "ipython3",
   "version": "3.11.5"
  }
 },
 "nbformat": 4,
 "nbformat_minor": 2
}
