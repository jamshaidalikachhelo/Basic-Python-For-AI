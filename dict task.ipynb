{
 "cells": [
  {
   "cell_type": "markdown",
   "metadata": {},
   "source": [
    "# Dictionaries in Python\n"
   ]
  },
  {
   "cell_type": "code",
   "execution_count": 1,
   "metadata": {},
   "outputs": [],
   "source": [
    "# Create a dictionary called student with keys 'name', 'age', and 'major'. Set the values to your \n",
    "# choice.\n",
    "#a. Add a new key-value pair to the student dictionary for the student's GPA.\n",
    "#b. Remove the 'age' key-value pair from the student dictionary."
   ]
  },
  {
   "cell_type": "code",
   "execution_count": 9,
   "metadata": {},
   "outputs": [
    {
     "data": {
      "text/plain": [
       "3"
      ]
     },
     "execution_count": 9,
     "metadata": {},
     "output_type": "execute_result"
    }
   ],
   "source": [
    "student = {'name': 'ali', 'age': 29, 'major': 'math'}\n",
    "\n",
    "# add new key value pair\n",
    "student.update({\"GPA\": 3.5})\n",
    " \n",
    "student\n",
    "\n",
    " # remove the age from dict\n",
    "\n",
    "del student['age']\n",
    "\n",
    "len(student)"
   ]
  },
  {
   "cell_type": "code",
   "execution_count": 25,
   "metadata": {},
   "outputs": [],
   "source": [
    "# 2. Write a Python program to find the length of a dictionary (number of key-value pairs).\n",
    "\n",
    "def length_of_dict(dictionary):\n",
    "    output = len(dictionary)\n",
    "\n",
    "    return output\n"
   ]
  },
  {
   "cell_type": "code",
   "execution_count": 27,
   "metadata": {},
   "outputs": [
    {
     "data": {
      "text/plain": [
       "2"
      ]
     },
     "execution_count": 27,
     "metadata": {},
     "output_type": "execute_result"
    }
   ],
   "source": [
    "my_dict = {'name' : 'jamshaid', 'class': 'five'}\n",
    "\n",
    "\n",
    "length_of_dict(my_dict)"
   ]
  },
  {
   "cell_type": "code",
   "execution_count": null,
   "metadata": {},
   "outputs": [],
   "source": [
    "#Create two dictionaries called dict1 and dict2 with keys 'a', 'b', and 'c'. Merge these dictionaries \n",
    "#into a new dictionary called merged_dict"
   ]
  },
  {
   "cell_type": "code",
   "execution_count": 14,
   "metadata": {},
   "outputs": [
    {
     "data": {
      "text/plain": [
       "{'name': 'jam', 'age': 32}"
      ]
     },
     "execution_count": 14,
     "metadata": {},
     "output_type": "execute_result"
    }
   ],
   "source": [
    "dict1 = {'name': 'jam'}\n",
    "dict2 = {'age': 32}\n",
    "\n",
    "\n",
    "merged = {**dict1, **dict2}\n",
    "\n",
    "merged"
   ]
  },
  {
   "cell_type": "code",
   "execution_count": 28,
   "metadata": {},
   "outputs": [
    {
     "data": {
      "text/plain": [
       "dict_values(['jam', 32])"
      ]
     },
     "execution_count": 28,
     "metadata": {},
     "output_type": "execute_result"
    }
   ],
   "source": [
    "#5. Write a function that takes a dictionary as an input and returns a list of its values.\n",
    "\n",
    "\n",
    "\n",
    "def find_values(dictionary):\n",
    "\n",
    "    output = dictionary.values()\n",
    "    return output\n",
    "\n",
    "\n",
    "my_dict = {'name': 'jam', 'age': 32}\n",
    "\n",
    "find_values(my_dict)\n",
    "\n"
   ]
  },
  {
   "cell_type": "code",
   "execution_count": 29,
   "metadata": {},
   "outputs": [
    {
     "data": {
      "text/plain": [
       "dict_keys(['name', 'age'])"
      ]
     },
     "execution_count": 29,
     "metadata": {},
     "output_type": "execute_result"
    }
   ],
   "source": [
    "#5. Write a function that takes a dictionary as an input and returns a list of its keys.\n",
    "\n",
    "\n",
    "\n",
    "def find_values(dictionary):\n",
    "\n",
    "    output = dictionary.keys()\n",
    "    return output\n",
    "\n",
    "\n",
    "my_dict = {'name': 'jam', 'age': 32}\n",
    "\n",
    "find_values(my_dict)\n",
    "\n"
   ]
  },
  {
   "cell_type": "code",
   "execution_count": 34,
   "metadata": {},
   "outputs": [
    {
     "name": "stdout",
     "output_type": "stream",
     "text": [
      "  student name  student marks\n",
      "0           jk             55\n",
      "1           lk             77\n"
     ]
    }
   ],
   "source": [
    "import pandas as pd\n",
    "\n",
    "\n",
    "students = []\n",
    "marks = []\n",
    "\n",
    "for i in range(2):\n",
    "\n",
    "  student = input(\"Enter the student name\")\n",
    "  mark = int(input(\"Enter the student marks\"))\n",
    "\n",
    "  students.append(student)\n",
    "  marks.append(mark)\n",
    "\n",
    "\n",
    "df = pd.DataFrame({'student name': students, 'student marks': marks})\n",
    "print(df)\n",
    "\n",
    "df.to_excel(r'D:\\NAVTTAC Code/sdata.xlsx', index= False)\n",
    "\n",
    "\n"
   ]
  },
  {
   "cell_type": "code",
   "execution_count": 43,
   "metadata": {},
   "outputs": [],
   "source": [
    "def data_type(a,b,c):\n",
    "    if data_type == dict:\n",
    "        print(data_type)"
   ]
  },
  {
   "cell_type": "code",
   "execution_count": 44,
   "metadata": {},
   "outputs": [],
   "source": []
  }
 ],
 "metadata": {
  "kernelspec": {
   "display_name": "Python 3",
   "language": "python",
   "name": "python3"
  },
  "language_info": {
   "codemirror_mode": {
    "name": "ipython",
    "version": 3
   },
   "file_extension": ".py",
   "mimetype": "text/x-python",
   "name": "python",
   "nbconvert_exporter": "python",
   "pygments_lexer": "ipython3",
   "version": "3.11.5"
  }
 },
 "nbformat": 4,
 "nbformat_minor": 2
}
