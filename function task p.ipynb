{
 "cells": [
  {
   "cell_type": "markdown",
   "metadata": {},
   "source": [
    "# some use full function of python"
   ]
  },
  {
   "cell_type": "code",
   "execution_count": 6,
   "metadata": {},
   "outputs": [
    {
     "name": "stdout",
     "output_type": "stream",
     "text": [
      "<map object at 0x0000026897F65900>\n",
      "{16, 9, 4}\n"
     ]
    }
   ],
   "source": [
    "# Map Function\n",
    "\n",
    "def square(aa):\n",
    "    return aa*aa\n",
    "\n",
    "list = (2,3,4)\n",
    "result = map(square,list)\n",
    "print(result)\n",
    "print(set(result))"
   ]
  },
  {
   "cell_type": "code",
   "execution_count": 7,
   "metadata": {},
   "outputs": [
    {
     "name": "stdout",
     "output_type": "stream",
     "text": [
      "{(1, 'one'), (2, 'two'), (3, 'three')}\n"
     ]
    }
   ],
   "source": [
    "# zip function \n",
    "\n",
    "numbers = [1,2,3]\n",
    "string = ['one', 'two','three']\n",
    "\n",
    "\n",
    "result = zip(numbers,string)\n",
    "resultset = set(result)\n",
    "print(resultset)"
   ]
  },
  {
   "cell_type": "markdown",
   "metadata": {},
   "source": [
    "# ZIP Function"
   ]
  },
  {
   "cell_type": "code",
   "execution_count": 13,
   "metadata": {},
   "outputs": [
    {
     "name": "stdout",
     "output_type": "stream",
     "text": [
      "{('jak', 55), ('jam', 66)}\n"
     ]
    }
   ],
   "source": [
    "# use of zip function \n",
    "names = []\n",
    "marks = []\n",
    "\n",
    "for i in range(2):\n",
    "\n",
    "    name = input(\"enter the name?\")\n",
    "    mark = int(input(\"Enter the marks\"))\n",
    "    names.append(name)\n",
    "    marks.append(mark)\n",
    "#name = ['jamshaid', 'lucky', 'shan', 'ammar']\n",
    "#marks = [44,55,22,66]\n",
    "\n",
    "\n",
    "\n",
    "result = zip(names,marks)\n",
    "resultset = set(result)\n",
    "print(resultset)"
   ]
  },
  {
   "cell_type": "markdown",
   "metadata": {},
   "source": [
    "# SUPER Function"
   ]
  },
  {
   "cell_type": "code",
   "execution_count": 4,
   "metadata": {},
   "outputs": [],
   "source": [
    "def print_twice(part1):\n",
    "    output = part1,part1\n",
    "    return \"/n\".join(output)"
   ]
  },
  {
   "cell_type": "code",
   "execution_count": 5,
   "metadata": {},
   "outputs": [
    {
     "name": "stdout",
     "output_type": "stream",
     "text": [
      "cat/ncat\n"
     ]
    }
   ],
   "source": [
    "result = print_twice('cat')\n",
    "print(result)"
   ]
  },
  {
   "cell_type": "code",
   "execution_count": 6,
   "metadata": {},
   "outputs": [
    {
     "name": "stdout",
     "output_type": "stream",
     "text": [
      "jamshaid\n",
      "jamshaid\n",
      "jamshaid\n",
      "jamshaid\n"
     ]
    }
   ],
   "source": [
    "def do_four(part2):\n",
    "    print(part2)\n",
    "    print(part2)\n",
    "    print(part2)\n",
    "    print(part2)\n",
    "\n",
    "\n",
    "\n",
    "do_four(\"jamshaid\")\n"
   ]
  },
  {
   "cell_type": "code",
   "execution_count": 43,
   "metadata": {},
   "outputs": [
    {
     "name": "stdout",
     "output_type": "stream",
     "text": [
      "+'''''' ---+ ---+\n",
      "|    |   |   |   \n",
      "+'''''' ---+ ---+\n",
      "|    |   |   |   \n",
      "+'''''' ---+ ---+\n"
     ]
    }
   ],
   "source": [
    "def draw_grid(rows,col):\n",
    "\n",
    "    for i in range(rows):\n",
    "        print(\"+''''''\" +  \" ---+\" * col)\n",
    "        print(\"|    \"+  \"|   \"* (col + 1))\n",
    "    print(\"+''''''\" +  \" ---+\" * col)\n",
    "\n",
    "\n",
    "\n",
    "draw_grid(2,2)"
   ]
  },
  {
   "cell_type": "code",
   "execution_count": 8,
   "metadata": {},
   "outputs": [],
   "source": [
    "def find_area(radius):\n",
    "\n",
    "    output = math.pi*radius**2\n",
    "   \n",
    "    return output"
   ]
  },
  {
   "cell_type": "code",
   "execution_count": 9,
   "metadata": {},
   "outputs": [
    {
     "data": {
      "text/plain": [
       "452.3893421169302"
      ]
     },
     "execution_count": 9,
     "metadata": {},
     "output_type": "execute_result"
    }
   ],
   "source": [
    "find_area(12)"
   ]
  },
  {
   "cell_type": "code",
   "execution_count": 12,
   "metadata": {},
   "outputs": [],
   "source": [
    "def find_absolute_value(x):\n",
    "    if x < 0:\n",
    "        return -x\n",
    "\n",
    "    else:\n",
    "        return 44\n",
    "\n"
   ]
  },
  {
   "cell_type": "code",
   "execution_count": 13,
   "metadata": {},
   "outputs": [
    {
     "data": {
      "text/plain": [
       "9"
      ]
     },
     "execution_count": 13,
     "metadata": {},
     "output_type": "execute_result"
    }
   ],
   "source": [
    "find_absolute_value(-9)"
   ]
  },
  {
   "cell_type": "code",
   "execution_count": 15,
   "metadata": {},
   "outputs": [],
   "source": [
    "#Write a python program to calculate the area of a triangle?\n",
    "# 1\\2x (bxh)\n",
    "\n",
    "def area_of_triangle(b,h):\n",
    "\n",
    "    out = 1/2*(b*h)\n",
    "\n",
    "    return out"
   ]
  },
  {
   "cell_type": "code",
   "execution_count": 16,
   "metadata": {},
   "outputs": [
    {
     "data": {
      "text/plain": [
       "7.5"
      ]
     },
     "execution_count": 16,
     "metadata": {},
     "output_type": "execute_result"
    }
   ],
   "source": [
    "area_of_triangle(3,5)"
   ]
  },
  {
   "cell_type": "code",
   "execution_count": 20,
   "metadata": {},
   "outputs": [
    {
     "data": {
      "text/plain": [
       "37.77777777777778"
      ]
     },
     "execution_count": 20,
     "metadata": {},
     "output_type": "execute_result"
    }
   ],
   "source": [
    "# Write a python program to convert  Fahrenheit to Celsius?\n",
    "\n",
    "\n",
    "def convert_F_to_C(f):\n",
    "\n",
    "    out = (f-32)/1.8\n",
    "\n",
    "    return out\n",
    "\n",
    "\n",
    "convert_F_to_C(100)"
   ]
  },
  {
   "cell_type": "code",
   "execution_count": 23,
   "metadata": {},
   "outputs": [
    {
     "data": {
      "text/plain": [
       "100.00399999999999"
      ]
     },
     "execution_count": 23,
     "metadata": {},
     "output_type": "execute_result"
    }
   ],
   "source": [
    "# Write a python program to convert Celsius to Fahrenheit?\n",
    "\n",
    "\n",
    "def convert_celsius_to_fahrenheit(c):\n",
    "\n",
    "    out = (c*9/5)+32\n",
    "\n",
    "    return out\n",
    "\n",
    "\n",
    "convert_celsius_to_fahrenheit(37.78)"
   ]
  },
  {
   "cell_type": "code",
   "execution_count": 30,
   "metadata": {},
   "outputs": [
    {
     "name": "stdout",
     "output_type": "stream",
     "text": [
      "Celsius 37.77777777777778\n"
     ]
    }
   ],
   "source": [
    "num = int(input(\"Enter the number\"))\n",
    "scale = input(\"Enter Scale name F C\")\n",
    "\n",
    "\n",
    "if scale == 'F':\n",
    "    out = (num-32)/1.8\n",
    "    print(\"Celsius\", out)\n",
    "\n",
    "\n",
    "elif scale == 'C':\n",
    "    out = (num * 9/5)+32\n",
    "    print(\"Fahrenheit\", out)\n",
    "\n",
    "else:\n",
    "    print(\"Try again\")"
   ]
  },
  {
   "cell_type": "code",
   "execution_count": null,
   "metadata": {},
   "outputs": [],
   "source": [
    "#Write a Python program that calculates the grade of a student based on their marks. \n",
    "T#he program should take the marks as input and display the corresponding grade according to the following criteria:"
   ]
  },
  {
   "cell_type": "code",
   "execution_count": 44,
   "metadata": {},
   "outputs": [],
   "source": [
    "import pandas as pd\n",
    "import numpy as np"
   ]
  },
  {
   "cell_type": "code",
   "execution_count": 49,
   "metadata": {},
   "outputs": [
    {
     "data": {
      "text/plain": [
       "18.2"
      ]
     },
     "execution_count": 49,
     "metadata": {},
     "output_type": "execute_result"
    }
   ],
   "source": [
    "dataset = (12,15,18,21,25)\n",
    "\n",
    "np.mean(dataset)"
   ]
  },
  {
   "cell_type": "code",
   "execution_count": null,
   "metadata": {},
   "outputs": [],
   "source": []
  }
 ],
 "metadata": {
  "kernelspec": {
   "display_name": "Python 3",
   "language": "python",
   "name": "python3"
  },
  "language_info": {
   "codemirror_mode": {
    "name": "ipython",
    "version": 3
   },
   "file_extension": ".py",
   "mimetype": "text/x-python",
   "name": "python",
   "nbconvert_exporter": "python",
   "pygments_lexer": "ipython3",
   "version": "3.11.5"
  }
 },
 "nbformat": 4,
 "nbformat_minor": 2
}
