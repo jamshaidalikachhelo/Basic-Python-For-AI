{
 "cells": [
  {
   "cell_type": "code",
   "execution_count": 14,
   "metadata": {},
   "outputs": [
    {
     "name": "stdout",
     "output_type": "stream",
     "text": [
      "The area is equal to 150\n",
      "The perimeter of rectangle is 50\n"
     ]
    }
   ],
   "source": [
    "class shape:\n",
    "    length = 10\n",
    "    width = 15\n",
    "    def area(self):\n",
    "        print(\"The area is equal to\", self.length * self.width)\n",
    "\n",
    "    def perimeter(self):\n",
    "      print(\"The perimeter of rectangle is\",2*(self.length + self.width))\n",
    "\n",
    "\n",
    "\n",
    "\n",
    "s1 = shape()\n",
    "s1.area()\n",
    "s1.perimeter()\n"
   ]
  },
  {
   "cell_type": "markdown",
   "metadata": {},
   "source": [
    "# create a sub class Animal with methods eat() and sleep()"
   ]
  },
  {
   "cell_type": "code",
   "execution_count": 28,
   "metadata": {},
   "outputs": [
    {
     "name": "stdout",
     "output_type": "stream",
     "text": [
      "the dog eats meat\n",
      "dog sleep for 20 hours\n"
     ]
    }
   ],
   "source": [
    "class Animal:\n",
    "    def eat(self):\n",
    "     print(\"the dog eats meat\")\n",
    "\n",
    "    def sleep(self):\n",
    "       print(\"dog sleep for 20 hours\")\n",
    "\n",
    "s1 = Animal()\n",
    "s1.eat()\n",
    "s1.sleep()\n",
    "\n"
   ]
  },
  {
   "cell_type": "markdown",
   "metadata": {},
   "source": [
    "# use of constructor"
   ]
  },
  {
   "cell_type": "code",
   "execution_count": 32,
   "metadata": {},
   "outputs": [
    {
     "name": "stdout",
     "output_type": "stream",
     "text": [
      "The name of employee is jamshaid\n",
      "The age of employee is 20\n"
     ]
    }
   ],
   "source": [
    "class Employee:\n",
    "    def __init__ (self,name,age):\n",
    "\n",
    "     self.name = name\n",
    "     self.age = age\n",
    "\n",
    "    def Employee_details(self):\n",
    "\n",
    "        print(\"The name of employee is\",self.name)\n",
    "        print(\"The age of employee is\",self.age)\n",
    "\n",
    "E1 = Employee(\"jamshaid\",20)\n",
    "E1.Employee_details()\n",
    "\n"
   ]
  },
  {
   "cell_type": "code",
   "execution_count": 44,
   "metadata": {},
   "outputs": [
    {
     "name": "stdout",
     "output_type": "stream",
     "text": [
      "The speed of vehical is 100\n",
      "The mileage of vehical is  1000\n"
     ]
    }
   ],
   "source": [
    "class Vehical:\n",
    "    def __init__(self,speed,mileage):\n",
    "        self.speed =  speed\n",
    "        self.millage = mileage\n",
    "\n",
    "    def show_vehical_details(self):\n",
    "        print(\"The speed of vehical is\",self.speed)\n",
    "        print(\"The mileage of vehical is \",self.millage)\n",
    "\n",
    "\n",
    "V = Vehical(100,1000)\n",
    "V.show_vehical_details()\n"
   ]
  },
  {
   "cell_type": "code",
   "execution_count": 46,
   "metadata": {},
   "outputs": [
    {
     "name": "stdout",
     "output_type": "stream",
     "text": [
      "The name of book is Rich man\n",
      "The price of book is 200\n",
      "The publish year of book is 2011\n"
     ]
    }
   ],
   "source": [
    "class Book_price:\n",
    "\n",
    "    def __init__(self,name,price,publish_year):\n",
    "\n",
    "        self.name = name\n",
    "        self.price = price\n",
    "        self.publish_year = publish_year\n",
    "\n",
    "    def show_book_details(self):\n",
    "        print(\"The name of book is\",self.name)\n",
    "        print(\"The price of book is\",self.price)\n",
    "        print(\"The publish year of book is\",self.publish_year)\n",
    "\n",
    "b = Book_price(\"Rich man\", 200, 2011)\n",
    "b.show_book_details()\n"
   ]
  },
  {
   "cell_type": "markdown",
   "metadata": {},
   "source": [
    "# now we make parent class from book price"
   ]
  },
  {
   "cell_type": "code",
   "execution_count": null,
   "metadata": {},
   "outputs": [],
   "source": [
    "class Copy(Book_price):\n",
    "    def show_book_details(self):\n",
    "        return super().show_book_details()\n",
    "    print(\"this is my new copy\")\n",
    "\n",
    "\n",
    "    "
   ]
  },
  {
   "cell_type": "code",
   "execution_count": null,
   "metadata": {},
   "outputs": [],
   "source": [
    "# matrix "
   ]
  }
 ],
 "metadata": {
  "kernelspec": {
   "display_name": "Python 3",
   "language": "python",
   "name": "python3"
  },
  "language_info": {
   "codemirror_mode": {
    "name": "ipython",
    "version": 3
   },
   "file_extension": ".py",
   "mimetype": "text/x-python",
   "name": "python",
   "nbconvert_exporter": "python",
   "pygments_lexer": "ipython3",
   "version": "3.11.5"
  }
 },
 "nbformat": 4,
 "nbformat_minor": 2
}
